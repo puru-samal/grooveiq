{
 "cells": [
  {
   "cell_type": "markdown",
   "metadata": {},
   "source": [
    "#### Imports"
   ]
  },
  {
   "cell_type": "code",
   "execution_count": 1,
   "metadata": {},
   "outputs": [],
   "source": [
    "import os\n",
    "import sys\n",
    "import numpy as np\n",
    "\n",
    "# Add the absolute path to the root directory\n",
    "script_dir = os.path.abspath('.')\n",
    "root_dir = os.path.dirname(script_dir)\n",
    "sys.path.insert(0, root_dir)\n",
    "\n",
    "from data import *"
   ]
  },
  {
   "cell_type": "markdown",
   "metadata": {},
   "source": [
    "## Analysis"
   ]
  },
  {
   "cell_type": "code",
   "execution_count": 2,
   "metadata": {},
   "outputs": [],
   "source": [
    "dataset_root = os.path.join(script_dir, \"serialized\")"
   ]
  },
  {
   "cell_type": "markdown",
   "metadata": {},
   "source": [
    "#### 1. ToonTrack"
   ]
  },
  {
   "cell_type": "code",
   "execution_count": null,
   "metadata": {},
   "outputs": [],
   "source": [
    "path = os.path.join(dataset_root, 'toontrack.pkl')\n",
    "name = path.split('/')[-1].split('.')[0]\n",
    "with open(path, \"rb\") as f:\n",
    "    dataset = pickle.load(f)\n",
    "\n",
    "ToonTrackStats = DataStats()\n",
    "ToonTrackStats.set_name(name = name)\n",
    "\n",
    "for datapoint in dataset:\n",
    "    ToonTrackStats.accumulate_dict(datapoint)\n",
    "\n",
    "ToonTrackStats.visualize()\n",
    "ToonTrackStats.summarize(verbose=True)"
   ]
  },
  {
   "cell_type": "markdown",
   "metadata": {},
   "source": [
    "##### Queries"
   ]
  },
  {
   "cell_type": "code",
   "execution_count": null,
   "metadata": {},
   "outputs": [],
   "source": [
    "samples = ToonTrackStats.query(styles=['rock'], num_bars=[4])\n",
    "print(f\"Found {len(samples)} samples matching the query\")\n",
    "for sample in reversed(samples):\n",
    "    print(f\"Style: {sample.style}, Time Signature: {sample.time_signature}, Type: {sample.type}, Number of Bars: {sample.num_bars}\")\n",
    "    print(f\"Metadata: {sample.metadata}\")\n",
    "    print(f\"Number of dropped notes: {sample.feature.num_dropped_notes}\")\n",
    "    feature = sample.feature\n",
    "    feature.play()\n",
    "    "
   ]
  },
  {
   "cell_type": "markdown",
   "metadata": {},
   "source": [
    "#### 2. 50s Autumn"
   ]
  },
  {
   "cell_type": "code",
   "execution_count": null,
   "metadata": {},
   "outputs": [],
   "source": [
    "path = os.path.join(dataset_root, '50sAutumn.pkl')\n",
    "name = path.split('/')[-1].split('.')[0]\n",
    "with open(path, \"rb\") as f:\n",
    "    dataset = pickle.load(f)\n",
    "\n",
    "Autumn50sStats = DataStats()\n",
    "Autumn50sStats.set_name(name = name)\n",
    "\n",
    "for datapoint in dataset:\n",
    "    Autumn50sStats.accumulate_dict(datapoint)\n",
    "\n",
    "Autumn50sStats.visualize()\n",
    "Autumn50sStats.summarize(verbose=True)"
   ]
  },
  {
   "cell_type": "markdown",
   "metadata": {},
   "source": [
    "##### Queries"
   ]
  },
  {
   "cell_type": "code",
   "execution_count": null,
   "metadata": {},
   "outputs": [],
   "source": [
    "samples = Autumn50sStats.query(styles=['jazz'], num_bars=[6])\n",
    "print(f\"Found {len(samples)} samples matching the query\")\n",
    "for sample in reversed(samples):\n",
    "    print(f\"Style: {sample.style}, Time Signature: {sample.time_signature}, Type: {sample.type}, Number of Bars: {sample.num_bars}\")\n",
    "    print(f\"Metadata: {sample.metadata}\")\n",
    "    print(f\"Number of dropped notes: {sample.feature.num_dropped_notes}\")\n",
    "    feature = sample.feature\n",
    "    feature.play()\n",
    "    "
   ]
  },
  {
   "cell_type": "markdown",
   "metadata": {},
   "source": [
    "#### 3. 60s Early"
   ]
  },
  {
   "cell_type": "code",
   "execution_count": null,
   "metadata": {},
   "outputs": [],
   "source": [
    "path = os.path.join(dataset_root, '60sEarly.pkl')\n",
    "name = path.split('/')[-1].split('.')[0]\n",
    "with open(path, \"rb\") as f:\n",
    "    dataset = pickle.load(f)\n",
    "\n",
    "Early60sStats = DataStats()\n",
    "Early60sStats.set_name(name = name)\n",
    "\n",
    "for datapoint in dataset:\n",
    "    Early60sStats.accumulate_dict(datapoint)\n",
    "\n",
    "Early60sStats.visualize()\n",
    "Early60sStats.summarize(verbose=True)"
   ]
  },
  {
   "cell_type": "markdown",
   "metadata": {},
   "source": [
    "##### Queries"
   ]
  },
  {
   "cell_type": "code",
   "execution_count": null,
   "metadata": {},
   "outputs": [],
   "source": [
    "samples = Early60sStats.query(styles=['electronic'], num_bars=[7])\n",
    "print(f\"Found {len(samples)} samples matching the query\")\n",
    "for sample in reversed(samples):\n",
    "    print(f\"Style: {sample.style}, Time Signature: {sample.time_signature}, Type: {sample.type}, Number of Bars: {sample.num_bars}\")\n",
    "    print(f\"Metadata: {sample.metadata}\")\n",
    "    print(f\"Number of dropped notes: {sample.feature.num_dropped_notes}\")\n",
    "    feature = sample.feature\n",
    "    feature.play()\n",
    "    "
   ]
  },
  {
   "cell_type": "markdown",
   "metadata": {},
   "source": [
    "#### 4. 70s Open"
   ]
  },
  {
   "cell_type": "code",
   "execution_count": null,
   "metadata": {},
   "outputs": [],
   "source": [
    "path = os.path.join(dataset_root, '70sOpen.pkl')\n",
    "name = path.split('/')[-1].split('.')[0]\n",
    "with open(path, \"rb\") as f:\n",
    "    dataset = pickle.load(f)\n",
    "\n",
    "Open70sStats = DataStats()\n",
    "Open70sStats.set_name(name = name)\n",
    "\n",
    "for datapoint in dataset:\n",
    "    Open70sStats.accumulate_dict(datapoint)\n",
    "\n",
    "Open70sStats.visualize()\n",
    "Open70sStats.summarize(verbose=True)"
   ]
  },
  {
   "cell_type": "markdown",
   "metadata": {},
   "source": [
    "##### Queries"
   ]
  },
  {
   "cell_type": "code",
   "execution_count": null,
   "metadata": {},
   "outputs": [],
   "source": [
    "samples = Open70sStats.query(styles=['electronic'], num_bars=[7])\n",
    "print(f\"Found {len(samples)} samples matching the query\")\n",
    "for sample in reversed(samples):\n",
    "    print(f\"Style: {sample.style}, Time Signature: {sample.time_signature}, Type: {sample.type}, Number of Bars: {sample.num_bars}\")\n",
    "    print(f\"Metadata: {sample.metadata}\")\n",
    "    print(f\"Number of dropped notes: {sample.feature.num_dropped_notes}\")\n",
    "    feature = sample.feature\n",
    "    feature.play()\n",
    "    "
   ]
  },
  {
   "cell_type": "markdown",
   "metadata": {},
   "source": [
    "#### 5. 80s Black"
   ]
  },
  {
   "cell_type": "code",
   "execution_count": null,
   "metadata": {},
   "outputs": [],
   "source": [
    "path = os.path.join(dataset_root, '80sBlack.pkl')\n",
    "name = path.split('/')[-1].split('.')[0]\n",
    "with open(path, \"rb\") as f:\n",
    "    dataset = pickle.load(f)\n",
    "\n",
    "Black80sStats = DataStats()\n",
    "Black80sStats.set_name(name = name)\n",
    "\n",
    "for datapoint in dataset:\n",
    "    Black80sStats.accumulate_dict(datapoint)\n",
    "\n",
    "Black80sStats.visualize()\n",
    "Black80sStats.summarize(verbose=True)"
   ]
  },
  {
   "cell_type": "markdown",
   "metadata": {},
   "source": [
    "##### Queries"
   ]
  },
  {
   "cell_type": "code",
   "execution_count": null,
   "metadata": {},
   "outputs": [],
   "source": [
    "samples = Black80sStats.query(styles=['electronic'], num_bars=[7])\n",
    "print(f\"Found {len(samples)} samples matching the query\")\n",
    "for sample in reversed(samples):\n",
    "    print(f\"Style: {sample.style}, Time Signature: {sample.time_signature}, Type: {sample.type}, Number of Bars: {sample.num_bars}\")\n",
    "    print(f\"Metadata: {sample.metadata}\")\n",
    "    print(f\"Number of dropped notes: {sample.feature.num_dropped_notes}\")\n",
    "    feature = sample.feature\n",
    "    feature.play()\n",
    "    "
   ]
  },
  {
   "cell_type": "markdown",
   "metadata": {},
   "source": [
    "#### 6. Vintage Ebony"
   ]
  },
  {
   "cell_type": "code",
   "execution_count": null,
   "metadata": {},
   "outputs": [],
   "source": [
    "path = os.path.join(dataset_root, 'ebonyVintage.pkl')\n",
    "name = path.split('/')[-1].split('.')[0]\n",
    "with open(path, \"rb\") as f:\n",
    "    dataset = pickle.load(f)\n",
    "\n",
    "EbonyVintageStats = DataStats()\n",
    "EbonyVintageStats.set_name(name = name)\n",
    "\n",
    "for datapoint in dataset:\n",
    "    EbonyVintageStats.accumulate_dict(datapoint)\n",
    "\n",
    "EbonyVintageStats.visualize()\n",
    "EbonyVintageStats.summarize(verbose=True)"
   ]
  },
  {
   "cell_type": "markdown",
   "metadata": {},
   "source": [
    "##### Queries"
   ]
  },
  {
   "cell_type": "code",
   "execution_count": null,
   "metadata": {},
   "outputs": [],
   "source": [
    "samples = EbonyVintageStats.query(styles=['soul'], num_bars=[3])\n",
    "print(f\"Found {len(samples)} samples matching the query\")\n",
    "for sample in reversed(samples):\n",
    "    print(f\"Style: {sample.style}, Time Signature: {sample.time_signature}, Type: {sample.type}, Number of Bars: {sample.num_bars}\")\n",
    "    print(f\"Metadata: {sample.metadata}\")\n",
    "    print(f\"Number of dropped notes: {sample.feature.num_dropped_notes}\")\n",
    "    feature = sample.feature\n",
    "    feature.play()\n",
    "    "
   ]
  },
  {
   "cell_type": "markdown",
   "metadata": {},
   "source": [
    "#### 7. Studio Session"
   ]
  },
  {
   "cell_type": "code",
   "execution_count": null,
   "metadata": {},
   "outputs": [],
   "source": [
    "path = os.path.join(dataset_root, 'sessionStudio.pkl')\n",
    "name = path.split('/')[-1].split('.')[0]\n",
    "with open(path, \"rb\") as f:\n",
    "    dataset = pickle.load(f)\n",
    "\n",
    "SessionStudioStats = DataStats()\n",
    "SessionStudioStats.set_name(name = name)\n",
    "\n",
    "for datapoint in dataset:\n",
    "    SessionStudioStats.accumulate_dict(datapoint)\n",
    "\n",
    "SessionStudioStats.visualize()\n",
    "SessionStudioStats.summarize(verbose=True)"
   ]
  },
  {
   "cell_type": "markdown",
   "metadata": {},
   "source": [
    "##### Queries"
   ]
  },
  {
   "cell_type": "code",
   "execution_count": null,
   "metadata": {},
   "outputs": [],
   "source": [
    "samples = SessionStudioStats.query(styles=['metal'], num_bars=[3])\n",
    "print(f\"Found {len(samples)} samples matching the query\")\n",
    "for sample in reversed(samples):\n",
    "    print(f\"Style: {sample.style}, Time Signature: {sample.time_signature}, Type: {sample.type}, Number of Bars: {sample.num_bars}\")\n",
    "    print(f\"Metadata: {sample.metadata}\")\n",
    "    print(f\"Number of dropped notes: {sample.feature.num_dropped_notes}\")\n",
    "    feature = sample.feature\n",
    "    feature.play()\n",
    "    "
   ]
  },
  {
   "cell_type": "markdown",
   "metadata": {},
   "source": [
    "#### 8. Modern Sparkle"
   ]
  },
  {
   "cell_type": "code",
   "execution_count": null,
   "metadata": {},
   "outputs": [],
   "source": [
    "path = os.path.join(dataset_root, 'sparkleModern.pkl')\n",
    "name = path.split('/')[-1].split('.')[0]\n",
    "with open(path, \"rb\") as f:\n",
    "    dataset = pickle.load(f)\n",
    "\n",
    "SparkleModernStats = DataStats()\n",
    "SparkleModernStats.set_name(name = name)\n",
    "\n",
    "for datapoint in dataset:\n",
    "    SparkleModernStats.accumulate_dict(datapoint)\n",
    "\n",
    "SparkleModernStats.visualize()\n",
    "SparkleModernStats.summarize(verbose=True)"
   ]
  },
  {
   "cell_type": "markdown",
   "metadata": {},
   "source": [
    "##### Queries"
   ]
  },
  {
   "cell_type": "code",
   "execution_count": null,
   "metadata": {},
   "outputs": [],
   "source": [
    "samples = SparkleModernStats.query(styles=['electronic'], num_bars=[7])\n",
    "print(f\"Found {len(samples)} samples matching the query\")\n",
    "for sample in reversed(samples):    \n",
    "    print(f\"Style: {sample.style}, Time Signature: {sample.time_signature}, Type: {sample.type}, Number of Bars: {sample.num_bars}\")\n",
    "    print(f\"Metadata: {sample.metadata}\")\n",
    "    print(f\"Number of dropped notes: {sample.feature.num_dropped_notes}\")\n",
    "    feature = sample.feature\n",
    "    feature.play()\n",
    "    "
   ]
  },
  {
   "cell_type": "markdown",
   "metadata": {},
   "source": [
    "#### 9. 2-bar Groove"
   ]
  },
  {
   "cell_type": "code",
   "execution_count": null,
   "metadata": {},
   "outputs": [],
   "source": [
    "path = os.path.join(dataset_root, '2barGMD.pkl')\n",
    "name = path.split('/')[-1].split('.')[0]\n",
    "with open(path, \"rb\") as f:\n",
    "    dataset = pickle.load(f)\n",
    "\n",
    "Groove2BarStats = DataStats()\n",
    "Groove2BarStats.set_name(name = name)\n",
    "\n",
    "for datapoint in dataset:\n",
    "    Groove2BarStats.accumulate_dict(datapoint)\n",
    "\n",
    "Groove2BarStats.visualize()\n",
    "Groove2BarStats.summarize(verbose=True)"
   ]
  },
  {
   "cell_type": "markdown",
   "metadata": {},
   "source": [
    "##### Queries"
   ]
  },
  {
   "cell_type": "code",
   "execution_count": null,
   "metadata": {},
   "outputs": [],
   "source": [
    "samples = Groove2BarStats.query(styles=['latin'], num_bars=[3])\n",
    "print(f\"Found {len(samples)} samples matching the query\")\n",
    "for sample in reversed(samples):\n",
    "    print(f\"Style: {sample.style}, Time Signature: {sample.time_signature}, Type: {sample.type}, Number of Bars: {sample.num_bars}\")\n",
    "    print(f\"Metadata: {sample.metadata}\")\n",
    "    print(f\"Number of dropped notes: {sample.feature.num_dropped_notes}\")\n",
    "    feature = sample.feature\n",
    "    feature.play()\n",
    "    "
   ]
  },
  {
   "cell_type": "markdown",
   "metadata": {},
   "source": [
    "#### 10. Merged"
   ]
  },
  {
   "cell_type": "code",
   "execution_count": null,
   "metadata": {},
   "outputs": [
    {
     "ename": "KeyboardInterrupt",
     "evalue": "",
     "output_type": "error",
     "traceback": [
      "\u001b[0;31m---------------------------------------------------------------------------\u001b[0m",
      "\u001b[0;31mKeyboardInterrupt\u001b[0m                         Traceback (most recent call last)",
      "Cell \u001b[0;32mIn[4], line 12\u001b[0m\n\u001b[1;32m      9\u001b[0m MergedStats\u001b[38;5;241m.\u001b[39mset_name(name \u001b[38;5;241m=\u001b[39m name)\n\u001b[1;32m     11\u001b[0m \u001b[38;5;28;01mfor\u001b[39;00m datapoint \u001b[38;5;129;01min\u001b[39;00m dataset:\n\u001b[0;32m---> 12\u001b[0m     \u001b[43mMergedStats\u001b[49m\u001b[38;5;241;43m.\u001b[39;49m\u001b[43maccumulate_dict\u001b[49m\u001b[43m(\u001b[49m\u001b[43mdatapoint\u001b[49m\u001b[43m)\u001b[49m\n\u001b[1;32m     14\u001b[0m MergedStats\u001b[38;5;241m.\u001b[39mvisualize()\n\u001b[1;32m     15\u001b[0m MergedStats\u001b[38;5;241m.\u001b[39msummarize(verbose\u001b[38;5;241m=\u001b[39m\u001b[38;5;28;01mTrue\u001b[39;00m)\n",
      "File \u001b[0;32m~/Desktop/Github-Local/drum-genie/data/data_stats.py:237\u001b[0m, in \u001b[0;36mDataStats.accumulate_dict\u001b[0;34m(self, data)\u001b[0m\n\u001b[1;32m    235\u001b[0m \u001b[38;5;66;03m# Compute number of bars\u001b[39;00m\n\u001b[1;32m    236\u001b[0m feature \u001b[38;5;241m=\u001b[39m DrumMIDIFeature(data[\u001b[38;5;124m'\u001b[39m\u001b[38;5;124mmidi_bytes\u001b[39m\u001b[38;5;124m'\u001b[39m])\n\u001b[0;32m--> 237\u001b[0m \u001b[38;5;28;43mself\u001b[39;49m\u001b[38;5;241;43m.\u001b[39;49m\u001b[43m_compute_max_hits_per_class\u001b[49m\u001b[43m(\u001b[49m\u001b[43mfeature\u001b[49m\u001b[43m)\u001b[49m\n\u001b[1;32m    238\u001b[0m numerator, denominator \u001b[38;5;241m=\u001b[39m \u001b[38;5;28mmap\u001b[39m(\u001b[38;5;28mint\u001b[39m, time_sig\u001b[38;5;241m.\u001b[39msplit(\u001b[38;5;124m'\u001b[39m\u001b[38;5;124m/\u001b[39m\u001b[38;5;124m'\u001b[39m))\n\u001b[1;32m    239\u001b[0m num_bars \u001b[38;5;241m=\u001b[39m get_num_bars(duration\u001b[38;5;241m=\u001b[39mfeature\u001b[38;5;241m.\u001b[39mend, time_signature\u001b[38;5;241m=\u001b[39m(numerator, denominator), tpq\u001b[38;5;241m=\u001b[39mfeature\u001b[38;5;241m.\u001b[39mscore\u001b[38;5;241m.\u001b[39mtpq)\n",
      "File \u001b[0;32m~/Desktop/Github-Local/drum-genie/data/data_stats.py:725\u001b[0m, in \u001b[0;36mDataStats._compute_max_hits_per_class\u001b[0;34m(self, feature, steps_per_quarter)\u001b[0m\n\u001b[1;32m    723\u001b[0m             \u001b[38;5;28;01mcontinue\u001b[39;00m\n\u001b[1;32m    724\u001b[0m         pitch \u001b[38;5;241m=\u001b[39m note\u001b[38;5;241m.\u001b[39mpitch\n\u001b[0;32m--> 725\u001b[0m         t \u001b[38;5;241m=\u001b[39m \u001b[38;5;28mint\u001b[39m(\u001b[43mnp\u001b[49m\u001b[38;5;241;43m.\u001b[39;49m\u001b[43mround\u001b[49m\u001b[43m(\u001b[49m\u001b[43m(\u001b[49m\u001b[43mnote\u001b[49m\u001b[38;5;241;43m.\u001b[39;49m\u001b[43mtime\u001b[49m\u001b[43m \u001b[49m\u001b[38;5;241;43m/\u001b[39;49m\u001b[43m \u001b[49m\u001b[43mfeature\u001b[49m\u001b[38;5;241;43m.\u001b[39;49m\u001b[43mscore\u001b[49m\u001b[38;5;241;43m.\u001b[39;49m\u001b[43mtpq\u001b[49m\u001b[43m)\u001b[49m\u001b[43m \u001b[49m\u001b[38;5;241;43m*\u001b[39;49m\u001b[43m \u001b[49m\u001b[43msteps_per_quarter\u001b[49m\u001b[43m)\u001b[49m)\n\u001b[1;32m    726\u001b[0m         hits_per_timestep[(t, pitch)] \u001b[38;5;241m+\u001b[39m\u001b[38;5;241m=\u001b[39m \u001b[38;5;241m1\u001b[39m\n\u001b[1;32m    728\u001b[0m \u001b[38;5;28;01mfor\u001b[39;00m (t, pitch), count \u001b[38;5;129;01min\u001b[39;00m hits_per_timestep\u001b[38;5;241m.\u001b[39mitems():\n",
      "File \u001b[0;32m~/miniconda3/envs/thesis/lib/python3.12/site-packages/numpy/_core/fromnumeric.py:3758\u001b[0m, in \u001b[0;36mround\u001b[0;34m(a, decimals, out)\u001b[0m\n\u001b[1;32m   3666\u001b[0m \u001b[38;5;129m@array_function_dispatch\u001b[39m(_round_dispatcher)\n\u001b[1;32m   3667\u001b[0m \u001b[38;5;28;01mdef\u001b[39;00m\u001b[38;5;250m \u001b[39m\u001b[38;5;21mround\u001b[39m(a, decimals\u001b[38;5;241m=\u001b[39m\u001b[38;5;241m0\u001b[39m, out\u001b[38;5;241m=\u001b[39m\u001b[38;5;28;01mNone\u001b[39;00m):\n\u001b[1;32m   3668\u001b[0m \u001b[38;5;250m    \u001b[39m\u001b[38;5;124;03m\"\"\"\u001b[39;00m\n\u001b[1;32m   3669\u001b[0m \u001b[38;5;124;03m    Evenly round to the given number of decimals.\u001b[39;00m\n\u001b[1;32m   3670\u001b[0m \n\u001b[0;32m   (...)\u001b[0m\n\u001b[1;32m   3756\u001b[0m \n\u001b[1;32m   3757\u001b[0m \u001b[38;5;124;03m    \"\"\"\u001b[39;00m\n\u001b[0;32m-> 3758\u001b[0m     \u001b[38;5;28;01mreturn\u001b[39;00m \u001b[43m_wrapfunc\u001b[49m\u001b[43m(\u001b[49m\u001b[43ma\u001b[49m\u001b[43m,\u001b[49m\u001b[43m \u001b[49m\u001b[38;5;124;43m'\u001b[39;49m\u001b[38;5;124;43mround\u001b[39;49m\u001b[38;5;124;43m'\u001b[39;49m\u001b[43m,\u001b[49m\u001b[43m \u001b[49m\u001b[43mdecimals\u001b[49m\u001b[38;5;241;43m=\u001b[39;49m\u001b[43mdecimals\u001b[49m\u001b[43m,\u001b[49m\u001b[43m \u001b[49m\u001b[43mout\u001b[49m\u001b[38;5;241;43m=\u001b[39;49m\u001b[43mout\u001b[49m\u001b[43m)\u001b[49m\n",
      "File \u001b[0;32m~/miniconda3/envs/thesis/lib/python3.12/site-packages/numpy/_core/fromnumeric.py:54\u001b[0m, in \u001b[0;36m_wrapfunc\u001b[0;34m(obj, method, *args, **kwds)\u001b[0m\n\u001b[1;32m     52\u001b[0m bound \u001b[38;5;241m=\u001b[39m \u001b[38;5;28mgetattr\u001b[39m(obj, method, \u001b[38;5;28;01mNone\u001b[39;00m)\n\u001b[1;32m     53\u001b[0m \u001b[38;5;28;01mif\u001b[39;00m bound \u001b[38;5;129;01mis\u001b[39;00m \u001b[38;5;28;01mNone\u001b[39;00m:\n\u001b[0;32m---> 54\u001b[0m     \u001b[38;5;28;01mreturn\u001b[39;00m \u001b[43m_wrapit\u001b[49m\u001b[43m(\u001b[49m\u001b[43mobj\u001b[49m\u001b[43m,\u001b[49m\u001b[43m \u001b[49m\u001b[43mmethod\u001b[49m\u001b[43m,\u001b[49m\u001b[43m \u001b[49m\u001b[38;5;241;43m*\u001b[39;49m\u001b[43margs\u001b[49m\u001b[43m,\u001b[49m\u001b[43m \u001b[49m\u001b[38;5;241;43m*\u001b[39;49m\u001b[38;5;241;43m*\u001b[39;49m\u001b[43mkwds\u001b[49m\u001b[43m)\u001b[49m\n\u001b[1;32m     56\u001b[0m \u001b[38;5;28;01mtry\u001b[39;00m:\n\u001b[1;32m     57\u001b[0m     \u001b[38;5;28;01mreturn\u001b[39;00m bound(\u001b[38;5;241m*\u001b[39margs, \u001b[38;5;241m*\u001b[39m\u001b[38;5;241m*\u001b[39mkwds)\n",
      "File \u001b[0;32m~/miniconda3/envs/thesis/lib/python3.12/site-packages/numpy/_core/fromnumeric.py:46\u001b[0m, in \u001b[0;36m_wrapit\u001b[0;34m(obj, method, *args, **kwds)\u001b[0m\n\u001b[1;32m     43\u001b[0m \u001b[38;5;66;03m# As this already tried the method, subok is maybe quite reasonable here\u001b[39;00m\n\u001b[1;32m     44\u001b[0m \u001b[38;5;66;03m# but this follows what was done before. TODO: revisit this.\u001b[39;00m\n\u001b[1;32m     45\u001b[0m arr, \u001b[38;5;241m=\u001b[39m conv\u001b[38;5;241m.\u001b[39mas_arrays(subok\u001b[38;5;241m=\u001b[39m\u001b[38;5;28;01mFalse\u001b[39;00m)\n\u001b[0;32m---> 46\u001b[0m result \u001b[38;5;241m=\u001b[39m \u001b[38;5;28;43mgetattr\u001b[39;49m\u001b[43m(\u001b[49m\u001b[43marr\u001b[49m\u001b[43m,\u001b[49m\u001b[43m \u001b[49m\u001b[43mmethod\u001b[49m\u001b[43m)\u001b[49m\u001b[43m(\u001b[49m\u001b[38;5;241;43m*\u001b[39;49m\u001b[43margs\u001b[49m\u001b[43m,\u001b[49m\u001b[43m \u001b[49m\u001b[38;5;241;43m*\u001b[39;49m\u001b[38;5;241;43m*\u001b[39;49m\u001b[43mkwds\u001b[49m\u001b[43m)\u001b[49m\n\u001b[1;32m     48\u001b[0m \u001b[38;5;28;01mreturn\u001b[39;00m conv\u001b[38;5;241m.\u001b[39mwrap(result, to_scalar\u001b[38;5;241m=\u001b[39m\u001b[38;5;28;01mFalse\u001b[39;00m)\n",
      "\u001b[0;31mKeyboardInterrupt\u001b[0m: "
     ]
    }
   ],
   "source": [
    "paths = ['toontrack.pkl', '50sAutumn.pkl', '60sEarly.pkl', \"70sOpen.pkl\", \"80sBlack.pkl\", \"ebonyVintage.pkl\", \"sessionStudio.pkl\", \"sparkleModern.pkl\", \"fullGMD.pkl\"]\n",
    "name = \"GrooveIQ\"\n",
    "dataset = []\n",
    "for path in paths:\n",
    "    with open(os.path.join(dataset_root, path), \"rb\") as f:\n",
    "        dataset.extend(pickle.load(f))\n",
    "\n",
    "MergedStats = DataStats()\n",
    "MergedStats.set_name(name = name)\n",
    "\n",
    "for datapoint in dataset:\n",
    "    MergedStats.accumulate_dict(datapoint)\n",
    "\n",
    "MergedStats.visualize()\n",
    "MergedStats.summarize(verbose=True)\n",
    "MergedStats.serialize(path=os.path.join(script_dir, 'serialized', f\"{MergedStats.name}.pkl\"))\n",
    "    "
   ]
  },
  {
   "cell_type": "markdown",
   "metadata": {},
   "source": [
    "##### Filter to 4/4 time signature"
   ]
  },
  {
   "cell_type": "code",
   "execution_count": null,
   "metadata": {},
   "outputs": [],
   "source": [
    "FourFourStats = MergedStats.filter(time_signatures=['4/4'])\n",
    "FourFourStats.visualize()\n",
    "FourFourStats.summarize(verbose=True)"
   ]
  },
  {
   "cell_type": "markdown",
   "metadata": {},
   "source": [
    "##### Split dataset into 2 bar segments"
   ]
  },
  {
   "cell_type": "code",
   "execution_count": null,
   "metadata": {},
   "outputs": [],
   "source": [
    "TwoBarFourFourStats = FourFourStats.split_segments(num_bars=2)\n",
    "TwoBarFourFourStats.visualize()\n",
    "TwoBarFourFourStats.summarize(verbose=True)"
   ]
  },
  {
   "cell_type": "markdown",
   "metadata": {},
   "source": [
    "##### Split into train, val, test"
   ]
  },
  {
   "cell_type": "code",
   "execution_count": 6,
   "metadata": {},
   "outputs": [],
   "source": [
    "train_stats, val_stats, test_stats = TwoBarFourFourStats.stratified_split(train_size=0.8, val_size=0.1, test_size=0.1)"
   ]
  },
  {
   "cell_type": "code",
   "execution_count": null,
   "metadata": {},
   "outputs": [],
   "source": [
    "train_stats.visualize()\n",
    "train_stats.summarize(verbose=True)"
   ]
  },
  {
   "cell_type": "code",
   "execution_count": null,
   "metadata": {},
   "outputs": [],
   "source": [
    "val_stats.visualize()\n",
    "val_stats.summarize(verbose=True)"
   ]
  },
  {
   "cell_type": "code",
   "execution_count": null,
   "metadata": {},
   "outputs": [],
   "source": [
    "test_stats.visualize()\n",
    "test_stats.summarize(verbose=True)"
   ]
  },
  {
   "cell_type": "markdown",
   "metadata": {},
   "source": [
    "#### Serialize train, val, test"
   ]
  },
  {
   "cell_type": "code",
   "execution_count": 10,
   "metadata": {},
   "outputs": [],
   "source": [
    "train_stats.serialize(path=os.path.join(script_dir, 'serialized', f\"{train_stats.name}.pkl\"))\n",
    "val_stats.serialize(path=os.path.join(script_dir, 'serialized', f\"{val_stats.name}.pkl\"))\n",
    "test_stats.serialize(path=os.path.join(script_dir, 'serialized', f\"{test_stats.name}.pkl\"))"
   ]
  },
  {
   "cell_type": "markdown",
   "metadata": {},
   "source": [
    "##### (Optional) Filter out samples > 8 bars"
   ]
  },
  {
   "cell_type": "code",
   "execution_count": null,
   "metadata": {},
   "outputs": [],
   "source": [
    "FilteredStats = MergedStats.filter(num_bars=[1, 2, 4, 8])\n",
    "FilteredStats.visualize()\n",
    "FilteredStats.summarize(verbose=True)"
   ]
  },
  {
   "cell_type": "markdown",
   "metadata": {},
   "source": [
    "##### Tests"
   ]
  },
  {
   "cell_type": "code",
   "execution_count": null,
   "metadata": {},
   "outputs": [],
   "source": [
    "samples = FilteredStats.query(num_bars=[2])\n",
    "print(f\"Found {len(samples)} samples matching the query\")\n",
    "\n",
    "rand_idx = np.random.randint(0, len(samples) - 1)\n",
    "sample = samples[rand_idx]\n",
    "print(f\"Style: {sample.style}, Time Signature: {sample.time_signature}, Type: {sample.type}, Number of Bars: {sample.num_bars}\")\n",
    "print(f\"Metadata: {sample.metadata}\")\n",
    "feature = sample.feature\n",
    "feature.play()\n",
    "\n",
    "# fixed grid\n",
    "fixed_grid, stats = feature.to_fixed_grid(steps_per_quarter=4)\n",
    "reconstructed_feature = feature.from_fixed_grid(fixed_grid, steps_per_quarter=4)\n",
    "print(\"fixed_grid.shape: \", fixed_grid.shape)\n",
    "print(f\"stats: {stats}\")\n",
    "reconstructed_feature.play()\n",
    "feature.plot_fixed_grid(steps_per_quarter=4)\n",
    "\n",
    "# flexible grid\n",
    "flexible_grid, stats = feature.to_flexible_grid(max_hits_per_class=FilteredStats.max_hits_per_class, steps_per_quarter=4)\n",
    "reconstructed_feature = feature.from_flexible_grid(flexible_grid, max_hits_per_class=FilteredStats.max_hits_per_class, steps_per_quarter=4)\n",
    "print(\"flexible_grid.shape: \", flexible_grid.shape)\n",
    "print(f\"stats: {stats}\")\n",
    "reconstructed_feature.play()\n",
    "feature.plot_flexible_grid(max_hits_per_class=FilteredStats.max_hits_per_class, steps_per_quarter=4)\n",
    "    "
   ]
  },
  {
   "cell_type": "markdown",
   "metadata": {},
   "source": [
    "##### Serialize data"
   ]
  },
  {
   "cell_type": "code",
   "execution_count": 9,
   "metadata": {},
   "outputs": [],
   "source": [
    "FilteredStats.serialize(path=os.path.join(script_dir, 'serialized', f\"{FilteredStats.name}.pkl\"))"
   ]
  }
 ],
 "metadata": {
  "kernelspec": {
   "display_name": "thesis",
   "language": "python",
   "name": "python3"
  },
  "language_info": {
   "codemirror_mode": {
    "name": "ipython",
    "version": 3
   },
   "file_extension": ".py",
   "mimetype": "text/x-python",
   "name": "python",
   "nbconvert_exporter": "python",
   "pygments_lexer": "ipython3",
   "version": "3.12.9"
  }
 },
 "nbformat": 4,
 "nbformat_minor": 2
}
