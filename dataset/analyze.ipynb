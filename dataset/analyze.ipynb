{
 "cells": [
  {
   "cell_type": "markdown",
   "metadata": {},
   "source": [
    "#### Imports"
   ]
  },
  {
   "cell_type": "code",
   "execution_count": 1,
   "metadata": {},
   "outputs": [],
   "source": [
    "import os\n",
    "import sys\n",
    "import numpy as np\n",
    "\n",
    "# Add the absolute path to the root directory\n",
    "script_dir = os.path.abspath('.')\n",
    "root_dir = os.path.dirname(script_dir)\n",
    "sys.path.insert(0, root_dir)\n",
    "\n",
    "from data import *"
   ]
  },
  {
   "cell_type": "markdown",
   "metadata": {},
   "source": [
    "## Analysis"
   ]
  },
  {
   "cell_type": "code",
   "execution_count": 2,
   "metadata": {},
   "outputs": [],
   "source": [
    "dataset_root = os.path.join(script_dir, \"serialized\")"
   ]
  },
  {
   "cell_type": "markdown",
   "metadata": {},
   "source": [
    "#### 1. ToonTrack"
   ]
  },
  {
   "cell_type": "code",
   "execution_count": null,
   "metadata": {},
   "outputs": [],
   "source": [
    "path = os.path.join(dataset_root, 'toontrack.pkl')\n",
    "name = path.split('/')[-1].split('.')[0]\n",
    "with open(path, \"rb\") as f:\n",
    "    dataset = pickle.load(f)\n",
    "\n",
    "ToonTrackStats = DataStats()\n",
    "ToonTrackStats.set_name(name = name)\n",
    "\n",
    "for datapoint in dataset:\n",
    "    ToonTrackStats.accumulate_dict(datapoint)\n",
    "\n",
    "ToonTrackStats.visualize()\n",
    "ToonTrackStats.summarize(verbose=True)"
   ]
  },
  {
   "cell_type": "markdown",
   "metadata": {},
   "source": [
    "##### Queries"
   ]
  },
  {
   "cell_type": "code",
   "execution_count": null,
   "metadata": {},
   "outputs": [],
   "source": [
    "samples = ToonTrackStats.query(styles=['rock'], num_bars=[4])\n",
    "print(f\"Found {len(samples)} samples matching the query\")\n",
    "for sample in reversed(samples):\n",
    "    print(f\"Style: {sample.style}, Time Signature: {sample.time_signature}, Type: {sample.type}, Number of Bars: {sample.num_bars}\")\n",
    "    print(f\"Metadata: {sample.metadata}\")\n",
    "    print(f\"Number of dropped notes: {sample.feature.num_dropped_notes}\")\n",
    "    feature = sample.feature\n",
    "    feature.play()\n",
    "    "
   ]
  },
  {
   "cell_type": "markdown",
   "metadata": {},
   "source": [
    "#### 2. 50s Autumn"
   ]
  },
  {
   "cell_type": "code",
   "execution_count": null,
   "metadata": {},
   "outputs": [],
   "source": [
    "path = os.path.join(dataset_root, '50sAutumn.pkl')\n",
    "name = path.split('/')[-1].split('.')[0]\n",
    "with open(path, \"rb\") as f:\n",
    "    dataset = pickle.load(f)\n",
    "\n",
    "Autumn50sStats = DataStats()\n",
    "Autumn50sStats.set_name(name = name)\n",
    "\n",
    "for datapoint in dataset:\n",
    "    Autumn50sStats.accumulate_dict(datapoint)\n",
    "\n",
    "Autumn50sStats.visualize()\n",
    "Autumn50sStats.summarize(verbose=True)"
   ]
  },
  {
   "cell_type": "markdown",
   "metadata": {},
   "source": [
    "##### Queries"
   ]
  },
  {
   "cell_type": "code",
   "execution_count": null,
   "metadata": {},
   "outputs": [],
   "source": [
    "samples = Autumn50sStats.query(styles=['jazz'], num_bars=[6])\n",
    "print(f\"Found {len(samples)} samples matching the query\")\n",
    "for sample in reversed(samples):\n",
    "    print(f\"Style: {sample.style}, Time Signature: {sample.time_signature}, Type: {sample.type}, Number of Bars: {sample.num_bars}\")\n",
    "    print(f\"Metadata: {sample.metadata}\")\n",
    "    print(f\"Number of dropped notes: {sample.feature.num_dropped_notes}\")\n",
    "    feature = sample.feature\n",
    "    feature.play()\n",
    "    "
   ]
  },
  {
   "cell_type": "markdown",
   "metadata": {},
   "source": [
    "#### 3. 60s Early"
   ]
  },
  {
   "cell_type": "code",
   "execution_count": null,
   "metadata": {},
   "outputs": [],
   "source": [
    "path = os.path.join(dataset_root, '60sEarly.pkl')\n",
    "name = path.split('/')[-1].split('.')[0]\n",
    "with open(path, \"rb\") as f:\n",
    "    dataset = pickle.load(f)\n",
    "\n",
    "Early60sStats = DataStats()\n",
    "Early60sStats.set_name(name = name)\n",
    "\n",
    "for datapoint in dataset:\n",
    "    Early60sStats.accumulate_dict(datapoint)\n",
    "\n",
    "Early60sStats.visualize()\n",
    "Early60sStats.summarize(verbose=True)"
   ]
  },
  {
   "cell_type": "markdown",
   "metadata": {},
   "source": [
    "##### Queries"
   ]
  },
  {
   "cell_type": "code",
   "execution_count": null,
   "metadata": {},
   "outputs": [],
   "source": [
    "samples = Early60sStats.query(styles=['electronic'], num_bars=[7])\n",
    "print(f\"Found {len(samples)} samples matching the query\")\n",
    "for sample in reversed(samples):\n",
    "    print(f\"Style: {sample.style}, Time Signature: {sample.time_signature}, Type: {sample.type}, Number of Bars: {sample.num_bars}\")\n",
    "    print(f\"Metadata: {sample.metadata}\")\n",
    "    print(f\"Number of dropped notes: {sample.feature.num_dropped_notes}\")\n",
    "    feature = sample.feature\n",
    "    feature.play()\n",
    "    "
   ]
  },
  {
   "cell_type": "markdown",
   "metadata": {},
   "source": [
    "#### 4. 70s Open"
   ]
  },
  {
   "cell_type": "code",
   "execution_count": null,
   "metadata": {},
   "outputs": [],
   "source": [
    "path = os.path.join(dataset_root, '70sOpen.pkl')\n",
    "name = path.split('/')[-1].split('.')[0]\n",
    "with open(path, \"rb\") as f:\n",
    "    dataset = pickle.load(f)\n",
    "\n",
    "Open70sStats = DataStats()\n",
    "Open70sStats.set_name(name = name)\n",
    "\n",
    "for datapoint in dataset:\n",
    "    Open70sStats.accumulate_dict(datapoint)\n",
    "\n",
    "Open70sStats.visualize()\n",
    "Open70sStats.summarize(verbose=True)"
   ]
  },
  {
   "cell_type": "markdown",
   "metadata": {},
   "source": [
    "##### Queries"
   ]
  },
  {
   "cell_type": "code",
   "execution_count": null,
   "metadata": {},
   "outputs": [],
   "source": [
    "samples = Open70sStats.query(styles=['electronic'], num_bars=[7])\n",
    "print(f\"Found {len(samples)} samples matching the query\")\n",
    "for sample in reversed(samples):\n",
    "    print(f\"Style: {sample.style}, Time Signature: {sample.time_signature}, Type: {sample.type}, Number of Bars: {sample.num_bars}\")\n",
    "    print(f\"Metadata: {sample.metadata}\")\n",
    "    print(f\"Number of dropped notes: {sample.feature.num_dropped_notes}\")\n",
    "    feature = sample.feature\n",
    "    feature.play()\n",
    "    "
   ]
  },
  {
   "cell_type": "markdown",
   "metadata": {},
   "source": [
    "#### 5. 80s Black"
   ]
  },
  {
   "cell_type": "code",
   "execution_count": null,
   "metadata": {},
   "outputs": [],
   "source": [
    "path = os.path.join(dataset_root, '80sBlack.pkl')\n",
    "name = path.split('/')[-1].split('.')[0]\n",
    "with open(path, \"rb\") as f:\n",
    "    dataset = pickle.load(f)\n",
    "\n",
    "Black80sStats = DataStats()\n",
    "Black80sStats.set_name(name = name)\n",
    "\n",
    "for datapoint in dataset:\n",
    "    Black80sStats.accumulate_dict(datapoint)\n",
    "\n",
    "Black80sStats.visualize()\n",
    "Black80sStats.summarize(verbose=True)"
   ]
  },
  {
   "cell_type": "markdown",
   "metadata": {},
   "source": [
    "##### Queries"
   ]
  },
  {
   "cell_type": "code",
   "execution_count": null,
   "metadata": {},
   "outputs": [],
   "source": [
    "samples = Black80sStats.query(styles=['electronic'], num_bars=[7])\n",
    "print(f\"Found {len(samples)} samples matching the query\")\n",
    "for sample in reversed(samples):\n",
    "    print(f\"Style: {sample.style}, Time Signature: {sample.time_signature}, Type: {sample.type}, Number of Bars: {sample.num_bars}\")\n",
    "    print(f\"Metadata: {sample.metadata}\")\n",
    "    print(f\"Number of dropped notes: {sample.feature.num_dropped_notes}\")\n",
    "    feature = sample.feature\n",
    "    feature.play()\n",
    "    "
   ]
  },
  {
   "cell_type": "markdown",
   "metadata": {},
   "source": [
    "#### 6. Vintage Ebony"
   ]
  },
  {
   "cell_type": "code",
   "execution_count": null,
   "metadata": {},
   "outputs": [],
   "source": [
    "path = os.path.join(dataset_root, 'ebonyVintage.pkl')\n",
    "name = path.split('/')[-1].split('.')[0]\n",
    "with open(path, \"rb\") as f:\n",
    "    dataset = pickle.load(f)\n",
    "\n",
    "EbonyVintageStats = DataStats()\n",
    "EbonyVintageStats.set_name(name = name)\n",
    "\n",
    "for datapoint in dataset:\n",
    "    EbonyVintageStats.accumulate_dict(datapoint)\n",
    "\n",
    "EbonyVintageStats.visualize()\n",
    "EbonyVintageStats.summarize(verbose=True)"
   ]
  },
  {
   "cell_type": "markdown",
   "metadata": {},
   "source": [
    "##### Queries"
   ]
  },
  {
   "cell_type": "code",
   "execution_count": null,
   "metadata": {},
   "outputs": [],
   "source": [
    "samples = EbonyVintageStats.query(styles=['soul'], num_bars=[3])\n",
    "print(f\"Found {len(samples)} samples matching the query\")\n",
    "for sample in reversed(samples):\n",
    "    print(f\"Style: {sample.style}, Time Signature: {sample.time_signature}, Type: {sample.type}, Number of Bars: {sample.num_bars}\")\n",
    "    print(f\"Metadata: {sample.metadata}\")\n",
    "    print(f\"Number of dropped notes: {sample.feature.num_dropped_notes}\")\n",
    "    feature = sample.feature\n",
    "    feature.play()\n",
    "    "
   ]
  },
  {
   "cell_type": "markdown",
   "metadata": {},
   "source": [
    "#### 7. Studio Session"
   ]
  },
  {
   "cell_type": "code",
   "execution_count": null,
   "metadata": {},
   "outputs": [],
   "source": [
    "path = os.path.join(dataset_root, 'sessionStudio.pkl')\n",
    "name = path.split('/')[-1].split('.')[0]\n",
    "with open(path, \"rb\") as f:\n",
    "    dataset = pickle.load(f)\n",
    "\n",
    "SessionStudioStats = DataStats()\n",
    "SessionStudioStats.set_name(name = name)\n",
    "\n",
    "for datapoint in dataset:\n",
    "    SessionStudioStats.accumulate_dict(datapoint)\n",
    "\n",
    "SessionStudioStats.visualize()\n",
    "SessionStudioStats.summarize(verbose=True)"
   ]
  },
  {
   "cell_type": "markdown",
   "metadata": {},
   "source": [
    "##### Queries"
   ]
  },
  {
   "cell_type": "code",
   "execution_count": null,
   "metadata": {},
   "outputs": [],
   "source": [
    "samples = SessionStudioStats.query(styles=['metal'], num_bars=[3])\n",
    "print(f\"Found {len(samples)} samples matching the query\")\n",
    "for sample in reversed(samples):\n",
    "    print(f\"Style: {sample.style}, Time Signature: {sample.time_signature}, Type: {sample.type}, Number of Bars: {sample.num_bars}\")\n",
    "    print(f\"Metadata: {sample.metadata}\")\n",
    "    print(f\"Number of dropped notes: {sample.feature.num_dropped_notes}\")\n",
    "    feature = sample.feature\n",
    "    feature.play()\n",
    "    "
   ]
  },
  {
   "cell_type": "markdown",
   "metadata": {},
   "source": [
    "#### 8. Modern Sparkle"
   ]
  },
  {
   "cell_type": "code",
   "execution_count": null,
   "metadata": {},
   "outputs": [],
   "source": [
    "path = os.path.join(dataset_root, 'sparkleModern.pkl')\n",
    "name = path.split('/')[-1].split('.')[0]\n",
    "with open(path, \"rb\") as f:\n",
    "    dataset = pickle.load(f)\n",
    "\n",
    "SparkleModernStats = DataStats()\n",
    "SparkleModernStats.set_name(name = name)\n",
    "\n",
    "for datapoint in dataset:\n",
    "    SparkleModernStats.accumulate_dict(datapoint)\n",
    "\n",
    "SparkleModernStats.visualize()\n",
    "SparkleModernStats.summarize(verbose=True)"
   ]
  },
  {
   "cell_type": "markdown",
   "metadata": {},
   "source": [
    "##### Queries"
   ]
  },
  {
   "cell_type": "code",
   "execution_count": null,
   "metadata": {},
   "outputs": [],
   "source": [
    "samples = SparkleModernStats.query(styles=['electronic'], num_bars=[7])\n",
    "print(f\"Found {len(samples)} samples matching the query\")\n",
    "for sample in reversed(samples):    \n",
    "    print(f\"Style: {sample.style}, Time Signature: {sample.time_signature}, Type: {sample.type}, Number of Bars: {sample.num_bars}\")\n",
    "    print(f\"Metadata: {sample.metadata}\")\n",
    "    print(f\"Number of dropped notes: {sample.feature.num_dropped_notes}\")\n",
    "    feature = sample.feature\n",
    "    feature.play()\n",
    "    "
   ]
  },
  {
   "cell_type": "markdown",
   "metadata": {},
   "source": [
    "#### 9. 2-bar Groove"
   ]
  },
  {
   "cell_type": "code",
   "execution_count": null,
   "metadata": {},
   "outputs": [],
   "source": [
    "path = os.path.join(dataset_root, '2barGMD.pkl')\n",
    "name = path.split('/')[-1].split('.')[0]\n",
    "with open(path, \"rb\") as f:\n",
    "    dataset = pickle.load(f)\n",
    "\n",
    "Groove2BarStats = DataStats()\n",
    "Groove2BarStats.set_name(name = name)\n",
    "\n",
    "for datapoint in dataset:\n",
    "    Groove2BarStats.accumulate_dict(datapoint)\n",
    "\n",
    "Groove2BarStats.visualize()\n",
    "Groove2BarStats.summarize(verbose=True)"
   ]
  },
  {
   "cell_type": "markdown",
   "metadata": {},
   "source": [
    "##### Queries"
   ]
  },
  {
   "cell_type": "code",
   "execution_count": null,
   "metadata": {},
   "outputs": [],
   "source": [
    "samples = Groove2BarStats.query(styles=['latin'], num_bars=[3])\n",
    "print(f\"Found {len(samples)} samples matching the query\")\n",
    "for sample in reversed(samples):\n",
    "    print(f\"Style: {sample.style}, Time Signature: {sample.time_signature}, Type: {sample.type}, Number of Bars: {sample.num_bars}\")\n",
    "    print(f\"Metadata: {sample.metadata}\")\n",
    "    print(f\"Number of dropped notes: {sample.feature.num_dropped_notes}\")\n",
    "    feature = sample.feature\n",
    "    feature.play()\n",
    "    "
   ]
  },
  {
   "cell_type": "markdown",
   "metadata": {},
   "source": [
    "#### 10. Merged"
   ]
  },
  {
   "cell_type": "code",
   "execution_count": null,
   "metadata": {},
   "outputs": [],
   "source": [
    "paths = ['toontrack.pkl', '50sAutumn.pkl', '60sEarly.pkl', \"70sOpen.pkl\", \"80sBlack.pkl\", \"ebonyVintage.pkl\", \"sessionStudio.pkl\", \"sparkleModern.pkl\", \"2barGMD.pkl\"]\n",
    "name = \"merged\"\n",
    "dataset = []\n",
    "for path in paths:\n",
    "    with open(os.path.join(dataset_root, path), \"rb\") as f:\n",
    "        dataset.extend(pickle.load(f))\n",
    "\n",
    "MergedStats = DataStats()\n",
    "MergedStats.set_name(name = name)\n",
    "\n",
    "for datapoint in dataset:\n",
    "    MergedStats.accumulate_dict(datapoint)\n",
    "\n",
    "MergedStats.visualize()\n",
    "MergedStats.summarize(verbose=True)\n",
    "    "
   ]
  },
  {
   "cell_type": "markdown",
   "metadata": {},
   "source": [
    "##### Filter to 4/4 time signature"
   ]
  },
  {
   "cell_type": "code",
   "execution_count": null,
   "metadata": {},
   "outputs": [],
   "source": [
    "FourFourStats = MergedStats.filter(time_signatures=['4/4'])\n",
    "FourFourStats.visualize()\n",
    "FourFourStats.summarize(verbose=True)"
   ]
  },
  {
   "cell_type": "markdown",
   "metadata": {},
   "source": [
    "##### Split dataset into 2 bar segments"
   ]
  },
  {
   "cell_type": "code",
   "execution_count": null,
   "metadata": {},
   "outputs": [],
   "source": [
    "TwoBarFourFourStats = FourFourStats.split_segments(num_bars=2)\n",
    "TwoBarFourFourStats.visualize()\n",
    "TwoBarFourFourStats.summarize(verbose=True)"
   ]
  },
  {
   "cell_type": "markdown",
   "metadata": {},
   "source": [
    "##### Split into train, val, test"
   ]
  },
  {
   "cell_type": "code",
   "execution_count": 6,
   "metadata": {},
   "outputs": [],
   "source": [
    "train_stats, val_stats, test_stats = TwoBarFourFourStats.stratified_split(train_size=0.8, val_size=0.1, test_size=0.1)"
   ]
  },
  {
   "cell_type": "code",
   "execution_count": null,
   "metadata": {},
   "outputs": [],
   "source": [
    "train_stats.visualize()\n",
    "train_stats.summarize(verbose=True)"
   ]
  },
  {
   "cell_type": "code",
   "execution_count": null,
   "metadata": {},
   "outputs": [],
   "source": [
    "val_stats.visualize()\n",
    "val_stats.summarize(verbose=True)"
   ]
  },
  {
   "cell_type": "code",
   "execution_count": null,
   "metadata": {},
   "outputs": [],
   "source": [
    "test_stats.visualize()\n",
    "test_stats.summarize(verbose=True)"
   ]
  },
  {
   "cell_type": "markdown",
   "metadata": {},
   "source": [
    "#### Serialize train, val, test"
   ]
  },
  {
   "cell_type": "code",
   "execution_count": 10,
   "metadata": {},
   "outputs": [],
   "source": [
    "train_stats.serialize(path=os.path.join(script_dir, 'serialized', f\"{train_stats.name}.pkl\"))\n",
    "val_stats.serialize(path=os.path.join(script_dir, 'serialized', f\"{val_stats.name}.pkl\"))\n",
    "test_stats.serialize(path=os.path.join(script_dir, 'serialized', f\"{test_stats.name}.pkl\"))"
   ]
  },
  {
   "cell_type": "markdown",
   "metadata": {},
   "source": [
    "##### (Optional) Filter out samples > 8 bars"
   ]
  },
  {
   "cell_type": "code",
   "execution_count": null,
   "metadata": {},
   "outputs": [],
   "source": [
    "FilteredStats = MergedStats.filter(num_bars=[1, 2, 4, 8])\n",
    "FilteredStats.visualize()\n",
    "FilteredStats.summarize(verbose=True)"
   ]
  },
  {
   "cell_type": "markdown",
   "metadata": {},
   "source": [
    "##### Tests"
   ]
  },
  {
   "cell_type": "code",
   "execution_count": null,
   "metadata": {},
   "outputs": [],
   "source": [
    "samples = FilteredStats.query(num_bars=[2])\n",
    "print(f\"Found {len(samples)} samples matching the query\")\n",
    "\n",
    "rand_idx = np.random.randint(0, len(samples) - 1)\n",
    "sample = samples[rand_idx]\n",
    "print(f\"Style: {sample.style}, Time Signature: {sample.time_signature}, Type: {sample.type}, Number of Bars: {sample.num_bars}\")\n",
    "print(f\"Metadata: {sample.metadata}\")\n",
    "feature = sample.feature\n",
    "feature.play()\n",
    "\n",
    "# fixed grid\n",
    "fixed_grid, stats = feature.to_fixed_grid(steps_per_quarter=4)\n",
    "reconstructed_feature = feature.from_fixed_grid(fixed_grid, steps_per_quarter=4)\n",
    "print(\"fixed_grid.shape: \", fixed_grid.shape)\n",
    "print(f\"stats: {stats}\")\n",
    "reconstructed_feature.play()\n",
    "feature.plot_fixed_grid(steps_per_quarter=4)\n",
    "\n",
    "# flexible grid\n",
    "flexible_grid, stats = feature.to_flexible_grid(max_hits_per_class=FilteredStats.max_hits_per_class, steps_per_quarter=4)\n",
    "reconstructed_feature = feature.from_flexible_grid(flexible_grid, max_hits_per_class=FilteredStats.max_hits_per_class, steps_per_quarter=4)\n",
    "print(\"flexible_grid.shape: \", flexible_grid.shape)\n",
    "print(f\"stats: {stats}\")\n",
    "reconstructed_feature.play()\n",
    "feature.plot_flexible_grid(max_hits_per_class=FilteredStats.max_hits_per_class, steps_per_quarter=4)\n",
    "    "
   ]
  },
  {
   "cell_type": "markdown",
   "metadata": {},
   "source": [
    "##### Serialize data"
   ]
  },
  {
   "cell_type": "code",
   "execution_count": 9,
   "metadata": {},
   "outputs": [],
   "source": [
    "FilteredStats.serialize(path=os.path.join(script_dir, 'serialized', f\"{FilteredStats.name}.pkl\"))"
   ]
  }
 ],
 "metadata": {
  "kernelspec": {
   "display_name": "thesis",
   "language": "python",
   "name": "python3"
  },
  "language_info": {
   "codemirror_mode": {
    "name": "ipython",
    "version": 3
   },
   "file_extension": ".py",
   "mimetype": "text/x-python",
   "name": "python",
   "nbconvert_exporter": "python",
   "pygments_lexer": "ipython3",
   "version": "3.12.9"
  }
 },
 "nbformat": 4,
 "nbformat_minor": 2
}
